{
 "cells": [
  {
   "cell_type": "code",
   "execution_count": 1,
   "metadata": {},
   "outputs": [
    {
     "name": "stdout",
     "output_type": "stream",
     "text": [
      "Enter the sentence:Shakesphere gave the best theatrics to the world\n",
      "Your sentence is: Shakesphere gave the best theatrics to the world\n"
     ]
    }
   ],
   "source": [
    "#Shakesphere gave the best theatrics to the world\n",
    "a=str(input(\"Enter the sentence:\"))\n",
    "print(\"Your sentence is:\",a)"
   ]
  },
  {
   "cell_type": "code",
   "execution_count": 2,
   "metadata": {},
   "outputs": [
    {
     "name": "stdout",
     "output_type": "stream",
     "text": [
      "William Shakespeare (bapt. 26 April 1564 – 23 April 1616)[a] was an English poet, playwright, and actor, widely regarded as the greatest writer in the English language and the world's greatest dramatist.[2][3][4] He is often called England's national poet and the \"Bard of Avon\" (or simply \"the Bard\").[5][b] His extant works, including collaborations, consist of some 39 plays,[c] 154 sonnets, two long narrative poems, and a few other verses, some of uncertain authorship. His plays have been translated into every major living language and are performed more often than those of any other playwrigh\n"
     ]
    }
   ],
   "source": [
    "a='''William Shakespeare (bapt. 26 April 1564 – 23 April 1616)[a] was an English poet, playwright, and actor, widely regarded as the greatest writer in the English language and the world's greatest dramatist.[2][3][4] He is often called England's national poet and the \"Bard of Avon\" (or simply \"the Bard\").[5][b] His extant works, including collaborations, consist of some 39 plays,[c] 154 sonnets, two long narrative poems, and a few other verses, some of uncertain authorship. His plays have been translated into every major living language and are performed more often than those of any other playwrigh'''\n",
    "print(a)"
   ]
  },
  {
   "cell_type": "code",
   "execution_count": 3,
   "metadata": {},
   "outputs": [
    {
     "name": "stdout",
     "output_type": "stream",
     "text": [
      "Delhi,Pune,London,Paris,Dublin,Chennai,Mumbai,Newyork\n"
     ]
    }
   ],
   "source": [
    "cities='''Delhi,Pune,London,Paris,Dublin,Chennai,Mumbai,Newyork'''\n",
    "print(cities)"
   ]
  },
  {
   "cell_type": "code",
   "execution_count": 11,
   "metadata": {},
   "outputs": [
    {
     "name": "stdout",
     "output_type": "stream",
     "text": [
      "old list ['London', 'Munich', 'Chennai', 'Dublin', 'Newyork', 'Paris', 'Berlin']\n",
      "\n",
      "New list: ['London', 'Munich', 'Chennai', 'Dublin', 'Newyork', 'Paris', 'Berlin', 'Tuskin']\n"
     ]
    }
   ],
   "source": [
    "cities=['London','Munich','Chennai','Dublin','Newyork','Paris','Berlin']\n",
    "\n",
    "print(\"old list\",cities)\n",
    "cities.append(\"Tuskin\")\n",
    "print(\"\")\n",
    "print(\"New list:\",cities)\n",
    "\n"
   ]
  },
  {
   "cell_type": "code",
   "execution_count": 5,
   "metadata": {},
   "outputs": [
    {
     "name": "stdout",
     "output_type": "stream",
     "text": [
      "Choose city Number in the list:4\n",
      "Dublin\n"
     ]
    }
   ],
   "source": [
    "a=int(input(\"Choose city Number in the list:\"))\n",
    "b=a-1\n",
    "print(cities[b])"
   ]
  },
  {
   "cell_type": "code",
   "execution_count": 12,
   "metadata": {},
   "outputs": [
    {
     "name": "stdout",
     "output_type": "stream",
     "text": [
      "London\n",
      "Munich\n",
      "Chennai\n",
      "Dublin\n",
      "Newyork\n",
      "Paris\n",
      "Berlin\n",
      "Tuskin\n"
     ]
    }
   ],
   "source": [
    "for city in cities:\n",
    "    print(city)"
   ]
  },
  {
   "cell_type": "code",
   "execution_count": 15,
   "metadata": {},
   "outputs": [
    {
     "name": "stdout",
     "output_type": "stream",
     "text": [
      "Number  of cities in your tour are 8\n"
     ]
    }
   ],
   "source": [
    "b=len(cities)\n",
    "print(\"Number  of cities in your tour are\",b)"
   ]
  },
  {
   "cell_type": "code",
   "execution_count": 16,
   "metadata": {},
   "outputs": [
    {
     "name": "stdout",
     "output_type": "stream",
     "text": [
      "{'1': 'one', '2': 'two'}\n"
     ]
    }
   ],
   "source": [
    "t={'1':'one','2':'two'}\n",
    "print(t)"
   ]
  },
  {
   "cell_type": "code",
   "execution_count": 18,
   "metadata": {},
   "outputs": [
    {
     "name": "stdout",
     "output_type": "stream",
     "text": [
      "(1, 2, 4)\n"
     ]
    }
   ],
   "source": [
    "t=1,2,4\n",
    "print(t)"
   ]
  },
  {
   "cell_type": "code",
   "execution_count": null,
   "metadata": {},
   "outputs": [],
   "source": []
  }
 ],
 "metadata": {
  "kernelspec": {
   "display_name": "Python 3",
   "language": "python",
   "name": "python3"
  },
  "language_info": {
   "codemirror_mode": {
    "name": "ipython",
    "version": 3
   },
   "file_extension": ".py",
   "mimetype": "text/x-python",
   "name": "python",
   "nbconvert_exporter": "python",
   "pygments_lexer": "ipython3",
   "version": "3.7.4"
  }
 },
 "nbformat": 4,
 "nbformat_minor": 2
}
