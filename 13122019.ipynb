{
 "cells": [
  {
   "cell_type": "code",
   "execution_count": 1,
   "metadata": {},
   "outputs": [
    {
     "name": "stdout",
     "output_type": "stream",
     "text": [
      "Enter a Number8\n",
      "cube of 0 is 0\n",
      "cube of 1 is 1\n",
      "cube of 2 is 8\n",
      "cube of 3 is 27\n",
      "cube of 4 is 64\n",
      "cube of 5 is 125\n",
      "cube of 6 is 216\n",
      "cube of 7 is 343\n",
      "cube of 8 is 512\n"
     ]
    }
   ],
   "source": [
    "#Cubes of every Element in given Range\n",
    "n=int(input(\"Enter a Number\"))\n",
    "for i in range(0,n+1):\n",
    "    print(\"cube of\",i ,\"is\",i**3)"
   ]
  },
  {
   "cell_type": "code",
   "execution_count": 2,
   "metadata": {},
   "outputs": [
    {
     "name": "stdout",
     "output_type": "stream",
     "text": [
      "Enter a Number:-8\n",
      "sum of individual cubes upto 8 is 1296\n"
     ]
    }
   ],
   "source": [
    "#Some of individualcubes in upto given number \n",
    "n=int(input(\"Enter a Number:-\"))\n",
    "a=0\n",
    "for i in range (1,n+1):\n",
    "    a=a+i**3\n",
    "print(\"sum of individual cubes upto\",n,\"is\",a)\n",
    "    "
   ]
  },
  {
   "cell_type": "code",
   "execution_count": 30,
   "metadata": {},
   "outputs": [
    {
     "name": "stdout",
     "output_type": "stream",
     "text": [
      "Enter range :-9\n",
      "1\n",
      "2\n",
      "3\n",
      "4\n",
      "5\n",
      "6\n",
      "7\n",
      "8\n",
      "9\n",
      "Starting Time.. 1576214949.3976629\n",
      "Ending Time.. 1576214949.401663\n",
      "Time inside loop  1576214949.401663\n",
      "Difference of time is 0.004000186920166016\n"
     ]
    }
   ],
   "source": [
    "#printing Range\n",
    "#Print starting time and end time and difference between the starting and stopping time\n",
    "import time\n",
    "n=int(input(\"Enter range :-\"))\n",
    "a=time.time()\n",
    "for i in range (1,n+1):\n",
    "    \n",
    "    print(i)\n",
    "    d=time.time()\n",
    "b=time.time()\n",
    "print(\"Starting Time..\",a)\n",
    "print(\"Ending Time..\",b)\n",
    "c=b-a\n",
    "\n",
    "print(\"Time inside loop \",d)\n",
    "print(\"Difference of time is\",c)"
   ]
  },
  {
   "cell_type": "code",
   "execution_count": 31,
   "metadata": {},
   "outputs": [],
   "source": [
    "#Creating Function\n",
    "#Countdown\n",
    "def countdown(x):\n",
    "    if x==0:\n",
    "        print(\"Done\")\n",
    "    else:\n",
    "        print(x-1)\n",
    "        countdown(x-1)\n"
   ]
  },
  {
   "cell_type": "code",
   "execution_count": 33,
   "metadata": {},
   "outputs": [
    {
     "name": "stdout",
     "output_type": "stream",
     "text": [
      "3\n",
      "2\n",
      "1\n",
      "0\n",
      "Done\n"
     ]
    }
   ],
   "source": [
    "countdown(4)"
   ]
  },
  {
   "cell_type": "code",
   "execution_count": 40,
   "metadata": {},
   "outputs": [],
   "source": [
    "#GCD Example\n",
    "def gcd(a,b):\n",
    "    while b!=0:\n",
    "        t=a\n",
    "        a=b\n",
    "        b=t%b\n",
    "    return a"
   ]
  },
  {
   "cell_type": "code",
   "execution_count": 41,
   "metadata": {},
   "outputs": [
    {
     "data": {
      "text/plain": [
       "5"
      ]
     },
     "execution_count": 41,
     "metadata": {},
     "output_type": "execute_result"
    }
   ],
   "source": [
    "gcd(25,5)"
   ]
  },
  {
   "cell_type": "code",
   "execution_count": 54,
   "metadata": {},
   "outputs": [
    {
     "name": "stdout",
     "output_type": "stream",
     "text": [
      "Square Root 7.0710678118654755\n",
      "Remainder 1.0\n"
     ]
    }
   ],
   "source": [
    "#Importing Math and Performing operations\n",
    "\n",
    "import math as m\n",
    "b=m.sqrt(50)\n",
    "a=m.remainder(9,4)\n",
    "\n",
    "print(\"Square Root\",b)\n",
    "print(\"Remainder\",a)\n",
    "\n",
    "\n"
   ]
  },
  {
   "cell_type": "code",
   "execution_count": 48,
   "metadata": {},
   "outputs": [
    {
     "ename": "SyntaxError",
     "evalue": "invalid syntax (<ipython-input-48-73f8b24e0358>, line 1)",
     "output_type": "error",
     "traceback": [
      "\u001b[1;36m  File \u001b[1;32m\"<ipython-input-48-73f8b24e0358>\"\u001b[1;36m, line \u001b[1;32m1\u001b[0m\n\u001b[1;33m    list math\u001b[0m\n\u001b[1;37m            ^\u001b[0m\n\u001b[1;31mSyntaxError\u001b[0m\u001b[1;31m:\u001b[0m invalid syntax\n"
     ]
    }
   ],
   "source": [
    "\n"
   ]
  },
  {
   "cell_type": "code",
   "execution_count": null,
   "metadata": {},
   "outputs": [],
   "source": []
  }
 ],
 "metadata": {
  "kernelspec": {
   "display_name": "Python 3",
   "language": "python",
   "name": "python3"
  },
  "language_info": {
   "codemirror_mode": {
    "name": "ipython",
    "version": 3
   },
   "file_extension": ".py",
   "mimetype": "text/x-python",
   "name": "python",
   "nbconvert_exporter": "python",
   "pygments_lexer": "ipython3",
   "version": "3.7.4"
  }
 },
 "nbformat": 4,
 "nbformat_minor": 2
}
